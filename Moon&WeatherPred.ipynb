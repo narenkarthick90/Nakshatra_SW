{
 "cells": [
  {
   "metadata": {
    "collapsed": true,
    "ExecuteTime": {
     "end_time": "2025-09-26T19:40:46.635683Z",
     "start_time": "2025-09-26T19:40:45.958343Z"
    }
   },
   "cell_type": "code",
   "source": [
    "import pandas as pd\n",
    "import numpy as np\n",
    "import matplotlib as plt"
   ],
   "id": "b6760fd9893f1ba0",
   "outputs": [],
   "execution_count": 2
  },
  {
   "metadata": {
    "ExecuteTime": {
     "end_time": "2025-09-26T19:40:47.961697Z",
     "start_time": "2025-09-26T19:40:47.723723Z"
    }
   },
   "cell_type": "code",
   "source": [
    "df1 = pd.read_csv('astro_data.csv')\n",
    "df2 = pd.read_csv('forecast_data.csv')\n",
    "df3 = pd.read_csv('location_data.csv')"
   ],
   "id": "529ca8cddf1ddb48",
   "outputs": [],
   "execution_count": 3
  },
  {
   "metadata": {
    "ExecuteTime": {
     "end_time": "2025-09-26T19:41:16.661179Z",
     "start_time": "2025-09-26T19:41:16.649798Z"
    }
   },
   "cell_type": "code",
   "source": "df1.head()",
   "id": "b5bf5dea0af3e7b1",
   "outputs": [
    {
     "data": {
      "text/plain": [
       "    sunrise    sunset  moonrise   moonset     moon_phase  moon_illumination  \\\n",
       "0  06:14 AM  05:55 PM  02:53 PM  01:17 AM  First Quarter                 61   \n",
       "1  05:50 AM  05:35 PM  02:24 PM  01:00 AM  First Quarter                 61   \n",
       "2  06:00 AM  05:47 PM  02:34 PM  01:14 AM  First Quarter                 61   \n",
       "3  06:01 AM  05:47 PM  02:34 PM  01:15 AM  First Quarter                 61   \n",
       "4  06:01 AM  05:50 PM  02:33 PM  01:20 AM  First Quarter                 61   \n",
       "\n",
       "            state           city  \n",
       "0  Andhra Pradesh      Amaravati  \n",
       "1  Andhra Pradesh  Visakhapatnam  \n",
       "2  Andhra Pradesh     Vijayawada  \n",
       "3  Andhra Pradesh         Guntur  \n",
       "4  Andhra Pradesh        Nellore  "
      ],
      "text/html": [
       "<div>\n",
       "<style scoped>\n",
       "    .dataframe tbody tr th:only-of-type {\n",
       "        vertical-align: middle;\n",
       "    }\n",
       "\n",
       "    .dataframe tbody tr th {\n",
       "        vertical-align: top;\n",
       "    }\n",
       "\n",
       "    .dataframe thead th {\n",
       "        text-align: right;\n",
       "    }\n",
       "</style>\n",
       "<table border=\"1\" class=\"dataframe\">\n",
       "  <thead>\n",
       "    <tr style=\"text-align: right;\">\n",
       "      <th></th>\n",
       "      <th>sunrise</th>\n",
       "      <th>sunset</th>\n",
       "      <th>moonrise</th>\n",
       "      <th>moonset</th>\n",
       "      <th>moon_phase</th>\n",
       "      <th>moon_illumination</th>\n",
       "      <th>state</th>\n",
       "      <th>city</th>\n",
       "    </tr>\n",
       "  </thead>\n",
       "  <tbody>\n",
       "    <tr>\n",
       "      <th>0</th>\n",
       "      <td>06:14 AM</td>\n",
       "      <td>05:55 PM</td>\n",
       "      <td>02:53 PM</td>\n",
       "      <td>01:17 AM</td>\n",
       "      <td>First Quarter</td>\n",
       "      <td>61</td>\n",
       "      <td>Andhra Pradesh</td>\n",
       "      <td>Amaravati</td>\n",
       "    </tr>\n",
       "    <tr>\n",
       "      <th>1</th>\n",
       "      <td>05:50 AM</td>\n",
       "      <td>05:35 PM</td>\n",
       "      <td>02:24 PM</td>\n",
       "      <td>01:00 AM</td>\n",
       "      <td>First Quarter</td>\n",
       "      <td>61</td>\n",
       "      <td>Andhra Pradesh</td>\n",
       "      <td>Visakhapatnam</td>\n",
       "    </tr>\n",
       "    <tr>\n",
       "      <th>2</th>\n",
       "      <td>06:00 AM</td>\n",
       "      <td>05:47 PM</td>\n",
       "      <td>02:34 PM</td>\n",
       "      <td>01:14 AM</td>\n",
       "      <td>First Quarter</td>\n",
       "      <td>61</td>\n",
       "      <td>Andhra Pradesh</td>\n",
       "      <td>Vijayawada</td>\n",
       "    </tr>\n",
       "    <tr>\n",
       "      <th>3</th>\n",
       "      <td>06:01 AM</td>\n",
       "      <td>05:47 PM</td>\n",
       "      <td>02:34 PM</td>\n",
       "      <td>01:15 AM</td>\n",
       "      <td>First Quarter</td>\n",
       "      <td>61</td>\n",
       "      <td>Andhra Pradesh</td>\n",
       "      <td>Guntur</td>\n",
       "    </tr>\n",
       "    <tr>\n",
       "      <th>4</th>\n",
       "      <td>06:01 AM</td>\n",
       "      <td>05:50 PM</td>\n",
       "      <td>02:33 PM</td>\n",
       "      <td>01:20 AM</td>\n",
       "      <td>First Quarter</td>\n",
       "      <td>61</td>\n",
       "      <td>Andhra Pradesh</td>\n",
       "      <td>Nellore</td>\n",
       "    </tr>\n",
       "  </tbody>\n",
       "</table>\n",
       "</div>"
      ]
     },
     "execution_count": 5,
     "metadata": {},
     "output_type": "execute_result"
    }
   ],
   "execution_count": 5
  },
  {
   "metadata": {
    "ExecuteTime": {
     "end_time": "2025-09-26T19:42:31.806541Z",
     "start_time": "2025-09-26T19:42:31.750581Z"
    }
   },
   "cell_type": "code",
   "source": "df1.info()",
   "id": "6b503e43868a3bab",
   "outputs": [
    {
     "name": "stdout",
     "output_type": "stream",
     "text": [
      "<class 'pandas.core.frame.DataFrame'>\n",
      "RangeIndex: 1232 entries, 0 to 1231\n",
      "Data columns (total 8 columns):\n",
      " #   Column             Non-Null Count  Dtype \n",
      "---  ------             --------------  ----- \n",
      " 0   sunrise            1232 non-null   object\n",
      " 1   sunset             1232 non-null   object\n",
      " 2   moonrise           1232 non-null   object\n",
      " 3   moonset            1232 non-null   object\n",
      " 4   moon_phase         1232 non-null   object\n",
      " 5   moon_illumination  1232 non-null   int64 \n",
      " 6   state              1232 non-null   object\n",
      " 7   city               1232 non-null   object\n",
      "dtypes: int64(1), object(7)\n",
      "memory usage: 77.1+ KB\n"
     ]
    }
   ],
   "execution_count": 10
  },
  {
   "metadata": {
    "ExecuteTime": {
     "end_time": "2025-09-26T19:49:11.738592Z",
     "start_time": "2025-09-26T19:49:11.686593Z"
    }
   },
   "cell_type": "code",
   "source": [
    "for col in ['sunrise', 'sunset', 'moonrise', 'moonset']:\n",
    "    df1[col] = pd.to_datetime(df1[col], format='%I:%M %p', errors='coerce')\n",
    "    df1[col] = df1[col].dt.hour * 60 + df1[col].dt.minute"
   ],
   "id": "28dcf6b59471e8d6",
   "outputs": [],
   "execution_count": 12
  },
  {
   "metadata": {
    "ExecuteTime": {
     "end_time": "2025-09-26T19:49:19.853437Z",
     "start_time": "2025-09-26T19:49:19.841298Z"
    }
   },
   "cell_type": "code",
   "source": "df1.head()",
   "id": "87baee06a8552c94",
   "outputs": [
    {
     "data": {
      "text/plain": [
       "   sunrise  sunset  moonrise  moonset     moon_phase  moon_illumination  \\\n",
       "0      374    1075       893     77.0  First Quarter                 61   \n",
       "1      350    1055       864     60.0  First Quarter                 61   \n",
       "2      360    1067       874     74.0  First Quarter                 61   \n",
       "3      361    1067       874     75.0  First Quarter                 61   \n",
       "4      361    1070       873     80.0  First Quarter                 61   \n",
       "\n",
       "            state           city  \n",
       "0  Andhra Pradesh      Amaravati  \n",
       "1  Andhra Pradesh  Visakhapatnam  \n",
       "2  Andhra Pradesh     Vijayawada  \n",
       "3  Andhra Pradesh         Guntur  \n",
       "4  Andhra Pradesh        Nellore  "
      ],
      "text/html": [
       "<div>\n",
       "<style scoped>\n",
       "    .dataframe tbody tr th:only-of-type {\n",
       "        vertical-align: middle;\n",
       "    }\n",
       "\n",
       "    .dataframe tbody tr th {\n",
       "        vertical-align: top;\n",
       "    }\n",
       "\n",
       "    .dataframe thead th {\n",
       "        text-align: right;\n",
       "    }\n",
       "</style>\n",
       "<table border=\"1\" class=\"dataframe\">\n",
       "  <thead>\n",
       "    <tr style=\"text-align: right;\">\n",
       "      <th></th>\n",
       "      <th>sunrise</th>\n",
       "      <th>sunset</th>\n",
       "      <th>moonrise</th>\n",
       "      <th>moonset</th>\n",
       "      <th>moon_phase</th>\n",
       "      <th>moon_illumination</th>\n",
       "      <th>state</th>\n",
       "      <th>city</th>\n",
       "    </tr>\n",
       "  </thead>\n",
       "  <tbody>\n",
       "    <tr>\n",
       "      <th>0</th>\n",
       "      <td>374</td>\n",
       "      <td>1075</td>\n",
       "      <td>893</td>\n",
       "      <td>77.0</td>\n",
       "      <td>First Quarter</td>\n",
       "      <td>61</td>\n",
       "      <td>Andhra Pradesh</td>\n",
       "      <td>Amaravati</td>\n",
       "    </tr>\n",
       "    <tr>\n",
       "      <th>1</th>\n",
       "      <td>350</td>\n",
       "      <td>1055</td>\n",
       "      <td>864</td>\n",
       "      <td>60.0</td>\n",
       "      <td>First Quarter</td>\n",
       "      <td>61</td>\n",
       "      <td>Andhra Pradesh</td>\n",
       "      <td>Visakhapatnam</td>\n",
       "    </tr>\n",
       "    <tr>\n",
       "      <th>2</th>\n",
       "      <td>360</td>\n",
       "      <td>1067</td>\n",
       "      <td>874</td>\n",
       "      <td>74.0</td>\n",
       "      <td>First Quarter</td>\n",
       "      <td>61</td>\n",
       "      <td>Andhra Pradesh</td>\n",
       "      <td>Vijayawada</td>\n",
       "    </tr>\n",
       "    <tr>\n",
       "      <th>3</th>\n",
       "      <td>361</td>\n",
       "      <td>1067</td>\n",
       "      <td>874</td>\n",
       "      <td>75.0</td>\n",
       "      <td>First Quarter</td>\n",
       "      <td>61</td>\n",
       "      <td>Andhra Pradesh</td>\n",
       "      <td>Guntur</td>\n",
       "    </tr>\n",
       "    <tr>\n",
       "      <th>4</th>\n",
       "      <td>361</td>\n",
       "      <td>1070</td>\n",
       "      <td>873</td>\n",
       "      <td>80.0</td>\n",
       "      <td>First Quarter</td>\n",
       "      <td>61</td>\n",
       "      <td>Andhra Pradesh</td>\n",
       "      <td>Nellore</td>\n",
       "    </tr>\n",
       "  </tbody>\n",
       "</table>\n",
       "</div>"
      ]
     },
     "execution_count": 14,
     "metadata": {},
     "output_type": "execute_result"
    }
   ],
   "execution_count": 14
  },
  {
   "metadata": {
    "ExecuteTime": {
     "end_time": "2025-09-26T19:50:50.835919Z",
     "start_time": "2025-09-26T19:50:50.829909Z"
    }
   },
   "cell_type": "code",
   "source": "df1['duration'] = (df1['sunset'] - df1['sunrise'])/60",
   "id": "d0238f5d0af84097",
   "outputs": [],
   "execution_count": 22
  },
  {
   "metadata": {
    "ExecuteTime": {
     "end_time": "2025-09-26T19:50:51.663753Z",
     "start_time": "2025-09-26T19:50:51.648844Z"
    }
   },
   "cell_type": "code",
   "source": "df1.head()",
   "id": "75170a620d05cb1e",
   "outputs": [
    {
     "data": {
      "text/plain": [
       "   sunrise  sunset  moonrise  moonset     moon_phase  moon_illumination  \\\n",
       "0      374    1075       893     77.0  First Quarter                 61   \n",
       "1      350    1055       864     60.0  First Quarter                 61   \n",
       "2      360    1067       874     74.0  First Quarter                 61   \n",
       "3      361    1067       874     75.0  First Quarter                 61   \n",
       "4      361    1070       873     80.0  First Quarter                 61   \n",
       "\n",
       "            state           city   duration  \n",
       "0  Andhra Pradesh      Amaravati  11.683333  \n",
       "1  Andhra Pradesh  Visakhapatnam  11.750000  \n",
       "2  Andhra Pradesh     Vijayawada  11.783333  \n",
       "3  Andhra Pradesh         Guntur  11.766667  \n",
       "4  Andhra Pradesh        Nellore  11.816667  "
      ],
      "text/html": [
       "<div>\n",
       "<style scoped>\n",
       "    .dataframe tbody tr th:only-of-type {\n",
       "        vertical-align: middle;\n",
       "    }\n",
       "\n",
       "    .dataframe tbody tr th {\n",
       "        vertical-align: top;\n",
       "    }\n",
       "\n",
       "    .dataframe thead th {\n",
       "        text-align: right;\n",
       "    }\n",
       "</style>\n",
       "<table border=\"1\" class=\"dataframe\">\n",
       "  <thead>\n",
       "    <tr style=\"text-align: right;\">\n",
       "      <th></th>\n",
       "      <th>sunrise</th>\n",
       "      <th>sunset</th>\n",
       "      <th>moonrise</th>\n",
       "      <th>moonset</th>\n",
       "      <th>moon_phase</th>\n",
       "      <th>moon_illumination</th>\n",
       "      <th>state</th>\n",
       "      <th>city</th>\n",
       "      <th>duration</th>\n",
       "    </tr>\n",
       "  </thead>\n",
       "  <tbody>\n",
       "    <tr>\n",
       "      <th>0</th>\n",
       "      <td>374</td>\n",
       "      <td>1075</td>\n",
       "      <td>893</td>\n",
       "      <td>77.0</td>\n",
       "      <td>First Quarter</td>\n",
       "      <td>61</td>\n",
       "      <td>Andhra Pradesh</td>\n",
       "      <td>Amaravati</td>\n",
       "      <td>11.683333</td>\n",
       "    </tr>\n",
       "    <tr>\n",
       "      <th>1</th>\n",
       "      <td>350</td>\n",
       "      <td>1055</td>\n",
       "      <td>864</td>\n",
       "      <td>60.0</td>\n",
       "      <td>First Quarter</td>\n",
       "      <td>61</td>\n",
       "      <td>Andhra Pradesh</td>\n",
       "      <td>Visakhapatnam</td>\n",
       "      <td>11.750000</td>\n",
       "    </tr>\n",
       "    <tr>\n",
       "      <th>2</th>\n",
       "      <td>360</td>\n",
       "      <td>1067</td>\n",
       "      <td>874</td>\n",
       "      <td>74.0</td>\n",
       "      <td>First Quarter</td>\n",
       "      <td>61</td>\n",
       "      <td>Andhra Pradesh</td>\n",
       "      <td>Vijayawada</td>\n",
       "      <td>11.783333</td>\n",
       "    </tr>\n",
       "    <tr>\n",
       "      <th>3</th>\n",
       "      <td>361</td>\n",
       "      <td>1067</td>\n",
       "      <td>874</td>\n",
       "      <td>75.0</td>\n",
       "      <td>First Quarter</td>\n",
       "      <td>61</td>\n",
       "      <td>Andhra Pradesh</td>\n",
       "      <td>Guntur</td>\n",
       "      <td>11.766667</td>\n",
       "    </tr>\n",
       "    <tr>\n",
       "      <th>4</th>\n",
       "      <td>361</td>\n",
       "      <td>1070</td>\n",
       "      <td>873</td>\n",
       "      <td>80.0</td>\n",
       "      <td>First Quarter</td>\n",
       "      <td>61</td>\n",
       "      <td>Andhra Pradesh</td>\n",
       "      <td>Nellore</td>\n",
       "      <td>11.816667</td>\n",
       "    </tr>\n",
       "  </tbody>\n",
       "</table>\n",
       "</div>"
      ]
     },
     "execution_count": 23,
     "metadata": {},
     "output_type": "execute_result"
    }
   ],
   "execution_count": 23
  },
  {
   "metadata": {},
   "cell_type": "code",
   "outputs": [],
   "execution_count": null,
   "source": "",
   "id": "bd94e8bd290382c8"
  }
 ],
 "metadata": {
  "kernelspec": {
   "display_name": "Python 3",
   "language": "python",
   "name": "python3"
  },
  "language_info": {
   "codemirror_mode": {
    "name": "ipython",
    "version": 2
   },
   "file_extension": ".py",
   "mimetype": "text/x-python",
   "name": "python",
   "nbconvert_exporter": "python",
   "pygments_lexer": "ipython2",
   "version": "2.7.6"
  }
 },
 "nbformat": 4,
 "nbformat_minor": 5
}
